{
  "nbformat": 4,
  "nbformat_minor": 0,
  "metadata": {
    "colab": {
      "name": "TE_Netflix.ipynb",
      "provenance": [],
      "authorship_tag": "ABX9TyN56YuTT2Bpr8+jnL1FntIk",
      "include_colab_link": true
    },
    "kernelspec": {
      "name": "python3",
      "display_name": "Python 3"
    },
    "language_info": {
      "name": "python"
    }
  },
  "cells": [
    {
      "cell_type": "markdown",
      "metadata": {
        "id": "view-in-github",
        "colab_type": "text"
      },
      "source": [
        "<a href=\"https://colab.research.google.com/github/LucaFedericoMarty/T.E_Netflix/blob/main/TE_Netflix.ipynb\" target=\"_parent\"><img src=\"https://colab.research.google.com/assets/colab-badge.svg\" alt=\"Open In Colab\"/></a>"
      ]
    },
    {
      "cell_type": "markdown",
      "source": [
        "#IMPORTACION DE LIBRERIAS"
      ],
      "metadata": {
        "id": "stN0ZBdI_9ly"
      }
    },
    {
      "cell_type": "code",
      "execution_count": null,
      "metadata": {
        "id": "56VBpkee_us_"
      },
      "outputs": [],
      "source": [
        "import panda as pd"
      ]
    }
  ]
}